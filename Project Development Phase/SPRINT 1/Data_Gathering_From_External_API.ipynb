{
  "nbformat": 4,
  "nbformat_minor": 0,
  "metadata": {
    "colab": {
      "provenance": [],
      "collapsed_sections": []
    },
    "kernelspec": {
      "name": "python3",
      "display_name": "Python 3"
    },
    "language_info": {
      "name": "python"
    }
  },
  "cells": [
    {
      "cell_type": "markdown",
      "source": [
        "Fetching the data from the External API"
      ],
      "metadata": {
        "id": "gBUUfIO2J7M9"
      }
    },
    {
      "cell_type": "code",
      "source": [
        " ! pip install -q kaggle"
      ],
      "metadata": {
        "id": "-eUv57ADKEaT"
      },
      "execution_count": 8,
      "outputs": []
    },
    {
      "cell_type": "code",
      "source": [
        "!mkdir ~/.kaggle/ #creating a kaggle directory"
      ],
      "metadata": {
        "id": "h9r8eFlUKpGH",
        "colab": {
          "base_uri": "https://localhost:8080/"
        },
        "outputId": "3dd2a61a-23d8-45fd-976a-4f9d69f8ac20"
      },
      "execution_count": 9,
      "outputs": [
        {
          "output_type": "stream",
          "name": "stdout",
          "text": [
            "mkdir: cannot create directory ‘/root/.kaggle/’: File exists\n"
          ]
        }
      ]
    },
    {
      "cell_type": "code",
      "source": [
        "!cp kaggle.json ~/.kaggle/ #copying json file to folder"
      ],
      "metadata": {
        "id": "cH0yeIwoLH6w"
      },
      "execution_count": 10,
      "outputs": []
    },
    {
      "cell_type": "code",
      "source": [
        "pwd"
      ],
      "metadata": {
        "id": "FcWbpVowLbA1",
        "colab": {
          "base_uri": "https://localhost:8080/",
          "height": 36
        },
        "outputId": "8b517515-b805-4239-d15e-8f04956d3208"
      },
      "execution_count": 11,
      "outputs": [
        {
          "output_type": "execute_result",
          "data": {
            "text/plain": [
              "'/content'"
            ],
            "application/vnd.google.colaboratory.intrinsic+json": {
              "type": "string"
            }
          },
          "metadata": {},
          "execution_count": 11
        }
      ]
    },
    {
      "cell_type": "code",
      "source": [
        "!chmod 600  ~/.kaggle/kaggle.json #changing the permision to json"
      ],
      "metadata": {
        "id": "DJux74yvLchH"
      },
      "execution_count": 12,
      "outputs": []
    },
    {
      "cell_type": "code",
      "source": [
        "!kaggle datasets download -d swarnalathas/hospital-data-analytics"
      ],
      "metadata": {
        "id": "MsNaLnAoLroq",
        "colab": {
          "base_uri": "https://localhost:8080/"
        },
        "outputId": "c06d53d4-b866-4577-c80d-755f5b4c62c5"
      },
      "execution_count": 13,
      "outputs": [
        {
          "output_type": "stream",
          "name": "stdout",
          "text": [
            "Downloading hospital-data-analytics.zip to /content\n",
            " 76% 5.00M/6.54M [00:00<00:00, 8.31MB/s]\n",
            "100% 6.54M/6.54M [00:00<00:00, 7.35MB/s]\n"
          ]
        }
      ]
    },
    {
      "cell_type": "code",
      "source": [
        "!unzip /content/hospital-data-analytics.zip"
      ],
      "metadata": {
        "id": "ocbfXsUbL1gZ",
        "colab": {
          "base_uri": "https://localhost:8080/"
        },
        "outputId": "2204bbd4-dd8a-4b60-bdbd-6ecf0ea58f1b"
      },
      "execution_count": 14,
      "outputs": [
        {
          "output_type": "stream",
          "name": "stdout",
          "text": [
            "Archive:  /content/hospital-data-analytics.zip\n",
            "  inflating: sample_sub.csv          \n",
            "  inflating: test_data.csv           \n",
            "  inflating: train_data.csv          \n",
            "  inflating: train_data_dictionary.csv  \n"
          ]
        }
      ]
    }
  ]
}